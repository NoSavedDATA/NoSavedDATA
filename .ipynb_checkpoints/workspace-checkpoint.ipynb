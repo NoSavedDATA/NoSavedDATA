{
 "cells": [
  {
   "cell_type": "code",
   "execution_count": 4,
   "id": "f2dc78d7-a5f5-4ad8-a01c-68912ad5aefa",
   "metadata": {},
   "outputs": [],
   "source": [
    "import shutil, glob, os\n",
    "\n",
    "for file in glob.glob('a/*'):\n",
    "    shutil.copy(file, f'b/{file.split(os.sep)[-1]}')"
   ]
  },
  {
   "cell_type": "code",
   "execution_count": 42,
   "id": "1ac57f6d-e45c-43c9-a29f-e94d81fc69b8",
   "metadata": {},
   "outputs": [
    {
     "name": "stdout",
     "output_type": "stream",
     "text": [
      "tensor([0.0002, 0.0058])\n"
     ]
    }
   ],
   "source": [
    "import math\n",
    "import torch\n",
    "\n",
    "p1 = 0.6697\n",
    "p2 = 0.6649\n",
    "n = 10000\n",
    "\n",
    "def statistical_difference(p1, p2, n):\n",
    "    \n",
    "    d=torch.tensor(p1-p2).abs()\n",
    "\n",
    "    std = 1.65 * math.sqrt((p1*(1-p1) + p2*(1-p2))/n)\n",
    "    \n",
    "    difference = torch.tensor([d-std, d+std])\n",
    "    \n",
    "    return difference.sort()[0]\n",
    "\n",
    "print(statistical_difference(0.834, 0.831, 100000))"
   ]
  },
  {
   "cell_type": "code",
   "execution_count": 13,
   "id": "5a8e20d0-e2d2-4ce7-9c42-12aea4125e65",
   "metadata": {},
   "outputs": [
    {
     "name": "stdout",
     "output_type": "stream",
     "text": [
      "IMPALA ResNet Parameters: 1.56M\n",
      "IMPALA ResNet Parameters: 1.63M\n"
     ]
    },
    {
     "data": {
      "text/plain": [
       "(torch.Size([32, 128, 12, 9]), torch.Size([32, 128, 12, 9]))"
      ]
     },
     "execution_count": 13,
     "metadata": {},
     "output_type": "execute_result"
    }
   ],
   "source": [
    "from nosaveddata import *\n",
    "import torch\n",
    "from torch import nn\n",
    "\n",
    "class IMPALA_Resnet(nn.Module):\n",
    "    def __init__(self, first_channels=12, scale_width=1, norm=True, init=init_relu, act=nn.SiLU()):\n",
    "        super().__init__()\n",
    "        self.norm=norm\n",
    "        self.init=init\n",
    "        self.act =act\n",
    "        \n",
    "        self.cnn = nn.Sequential(self.get_block(first_channels, 16*scale_width),\n",
    "                                 self.get_block(16*scale_width, 32*scale_width),\n",
    "                                 self.get_block(32*scale_width, 32*scale_width, last_relu=True))\n",
    "        params_count(self, 'IMPALA ResNet')\n",
    "    def get_block(self, in_hiddens, out_hiddens, last_relu=False):\n",
    "        \n",
    "        blocks = nn.Sequential(DQN_Conv(in_hiddens, out_hiddens, 3, 1, 1, max_pool=True, act=self.act, norm=self.norm, init=self.init),\n",
    "                               Residual_Block(out_hiddens, out_hiddens, norm=self.norm, act=self.act, init=self.init),\n",
    "                               Residual_Block(out_hiddens, out_hiddens, norm=self.norm, act=self.act, init=self.init, out_act=self.act if last_relu else nn.Identity())\n",
    "                              )\n",
    "        \n",
    "        return blocks\n",
    "        \n",
    "    def forward(self, X):\n",
    "        return self.cnn(X)\n",
    "\n",
    "\n",
    "class IMPALA_YY(nn.Module):\n",
    "    def __init__(self, first_channels=12, scale_width=1, norm=True, init=init_relu, act=nn.SiLU()):\n",
    "        super().__init__()\n",
    "        self.norm=norm\n",
    "        self.init=init\n",
    "        self.act =act\n",
    "\n",
    "        self.yin = self.get_yin(first_channels, 16*scale_width, 32*scale_width)\n",
    "        \n",
    "        self.yang = self.get_yang(first_channels, 16*scale_width)\n",
    "                                 \n",
    "        self.head = nn.Sequential(self.get_yang(16*scale_width, 32*scale_width),\n",
    "                                  self.get_yang(32*scale_width, 32*scale_width, last_relu=True))\n",
    "        \n",
    "        params_count(self, 'IMPALA ResNet')\n",
    "\n",
    "    def get_yin(self, in_hiddens, hiddens, out_hiddens):\n",
    "        blocks = nn.Sequential(DQN_Conv(1, hiddens, 3, 1, 1, max_pool=True, act=self.act, norm=self.norm, init=self.init),\n",
    "                               Residual_Block(hiddens, hiddens, norm=self.norm, act=self.act, init=self.init),\n",
    "                               #DQN_Conv(hiddens, out_hiddens, 3, 1, 1, max_pool=True, act=self.act, norm=self.norm, init=self.init),\n",
    "                               #Residual_Block(out_hiddens, out_hiddens, norm=self.norm, act=self.act, init=self.init),\n",
    "                               #Residual_Block(out_hiddens, out_hiddens, norm=self.norm, act=self.act, init=self.init)\n",
    "                              )\n",
    "        return blocks          \n",
    "        \n",
    "    def get_yang(self, in_hiddens, out_hiddens, last_relu=False):\n",
    "        \n",
    "        blocks = nn.Sequential(DQN_Conv(in_hiddens, out_hiddens, 3, 1, 1, max_pool=True, act=self.act, norm=self.norm, init=self.init),\n",
    "                               Residual_Block(out_hiddens, out_hiddens, norm=self.norm, act=self.act, init=self.init),\n",
    "                               Residual_Block(out_hiddens, out_hiddens, norm=self.norm, act=self.act, init=self.init, out_act=self.act if last_relu else nn.Identity())\n",
    "                              )\n",
    "        \n",
    "        return blocks\n",
    "    \n",
    "    def forward(self, X):\n",
    "\n",
    "        y = self.yin(X[:,-3:].mean(-3)[:,None])\n",
    "        x = self.yang(X)\n",
    "        \n",
    "        X = x*(1-y) + x + y\n",
    "        \n",
    "        return self.head(X)\n",
    "\n",
    "model = IMPALA_Resnet(scale_width=4)\n",
    "x=torch.randn(32,12,96,72)\n",
    "model2 = IMPALA_YY(scale_width=4)\n",
    "\n",
    "model(x).shape, model2(x).shape"
   ]
  },
  {
   "cell_type": "code",
   "execution_count": 16,
   "id": "4dcc521d-7bac-44e8-9584-ce0bab652aab",
   "metadata": {},
   "outputs": [
    {
     "data": {
      "text/plain": [
       "(Parameter containing:\n",
       " tensor([1., 1., 1., 1., 1., 1., 1., 1., 1., 1., 1., 1., 1., 1., 1., 1., 1., 1.,\n",
       "         1., 1., 1., 1., 1., 1., 1., 1., 1., 1., 1., 1., 1., 1.],\n",
       "        requires_grad=True),\n",
       " Parameter containing:\n",
       " tensor([[ 0.2418,  0.2625, -0.0741,  0.2905, -0.0693,  0.0638, -0.1540,  0.1857,\n",
       "           0.2788, -0.2320],\n",
       "         [ 0.2749,  0.0592,  0.2336,  0.0428,  0.1525, -0.0446,  0.2438,  0.0467,\n",
       "          -0.1476,  0.0806],\n",
       "         [-0.1457, -0.0371, -0.1284,  0.2098, -0.2496, -0.1458, -0.0893, -0.1901,\n",
       "           0.0298, -0.3123],\n",
       "         [ 0.2856, -0.2686,  0.2441,  0.0526, -0.1027,  0.1954,  0.0493,  0.2555,\n",
       "           0.0346, -0.0997],\n",
       "         [ 0.0850, -0.0858,  0.1331,  0.2823,  0.1828, -0.1382,  0.1825,  0.0566,\n",
       "           0.1606, -0.1927],\n",
       "         [-0.3130, -0.1222, -0.2426,  0.2595,  0.0911,  0.1310,  0.1000, -0.0055,\n",
       "           0.2475, -0.2247],\n",
       "         [ 0.0199, -0.2158,  0.0975, -0.1089,  0.0969, -0.0659,  0.2623, -0.1874,\n",
       "          -0.1886, -0.1886],\n",
       "         [ 0.2844,  0.1054,  0.3043, -0.2610, -0.3137, -0.2474, -0.2127,  0.1281,\n",
       "           0.1132,  0.2628],\n",
       "         [-0.1633, -0.2156,  0.1678, -0.1278,  0.1919, -0.0750,  0.1809, -0.2457,\n",
       "          -0.1596,  0.0964],\n",
       "         [ 0.0669, -0.0806,  0.1885,  0.2150, -0.2293, -0.1688,  0.2896, -0.1067,\n",
       "          -0.1121, -0.3060],\n",
       "         [-0.1811,  0.0790, -0.0417, -0.2295,  0.0074, -0.2160, -0.2683, -0.1741,\n",
       "          -0.2768, -0.2014],\n",
       "         [ 0.3161,  0.0597,  0.0974, -0.2949, -0.2077, -0.1053,  0.0494, -0.2783,\n",
       "          -0.1363, -0.1893],\n",
       "         [ 0.0009, -0.1177, -0.0219, -0.2143, -0.2171, -0.1845, -0.1082, -0.2496,\n",
       "           0.2651, -0.0628],\n",
       "         [ 0.2721,  0.0985, -0.2678,  0.2188, -0.0870, -0.1212, -0.2625, -0.3144,\n",
       "           0.0905, -0.0691],\n",
       "         [ 0.1231, -0.2595,  0.2348, -0.2321, -0.0546,  0.0661,  0.1633,  0.2553,\n",
       "           0.2881, -0.2507],\n",
       "         [ 0.0796, -0.1360, -0.0347, -0.2367,  0.2880, -0.2321,  0.1690,  0.1111,\n",
       "           0.1028, -0.1710],\n",
       "         [ 0.2874,  0.0695,  0.0407, -0.2787,  0.1327, -0.0474, -0.1449,  0.2716,\n",
       "           0.0705, -0.1750],\n",
       "         [-0.1601, -0.0151,  0.1766, -0.0808, -0.1804, -0.1083, -0.2362,  0.1128,\n",
       "           0.2448, -0.2977],\n",
       "         [ 0.0734,  0.1634,  0.0573, -0.1126,  0.1651,  0.1662,  0.1182, -0.0556,\n",
       "          -0.0837,  0.0338],\n",
       "         [-0.0559, -0.0942,  0.2021,  0.2718, -0.0313, -0.0708,  0.0046, -0.0189,\n",
       "           0.0760,  0.0886],\n",
       "         [-0.2872, -0.1167,  0.2663,  0.1232, -0.0157, -0.1907, -0.1935, -0.2833,\n",
       "          -0.1031,  0.1068],\n",
       "         [ 0.2016,  0.1460, -0.2795, -0.1902, -0.0499,  0.3059,  0.0457, -0.0819,\n",
       "           0.1308, -0.1204],\n",
       "         [-0.2047,  0.2308, -0.1438, -0.0634, -0.3146,  0.2116,  0.2396,  0.1152,\n",
       "          -0.2205, -0.3121],\n",
       "         [-0.2568,  0.2358,  0.1518,  0.2661,  0.1657,  0.0800, -0.0031, -0.2405,\n",
       "          -0.2709, -0.2958],\n",
       "         [ 0.1295, -0.1553, -0.0636, -0.1820, -0.0576, -0.2226, -0.2066,  0.1049,\n",
       "          -0.0940,  0.1952],\n",
       "         [-0.1014, -0.2320, -0.0558, -0.1533, -0.0967, -0.3010,  0.1769, -0.2202,\n",
       "           0.1589,  0.1435],\n",
       "         [ 0.2259, -0.2426,  0.2274, -0.1495,  0.1173,  0.2970, -0.0446, -0.0024,\n",
       "          -0.0728, -0.2640],\n",
       "         [ 0.1518, -0.3139,  0.1963,  0.2366,  0.2991, -0.0746, -0.2598,  0.0711,\n",
       "           0.1747, -0.3147],\n",
       "         [-0.0718, -0.1896, -0.0277, -0.1557, -0.1293, -0.1004, -0.3005,  0.2595,\n",
       "           0.2651, -0.0496],\n",
       "         [-0.0360, -0.1291, -0.2856, -0.3077,  0.1175, -0.1736, -0.2033, -0.0247,\n",
       "          -0.1053, -0.1023],\n",
       "         [ 0.0102, -0.0671, -0.1089, -0.1514, -0.2574,  0.2652, -0.1266,  0.0838,\n",
       "          -0.1097,  0.0257],\n",
       "         [ 0.2948,  0.1457, -0.2740,  0.1255,  0.3002,  0.0832,  0.2120,  0.3118,\n",
       "          -0.0485,  0.0656]], requires_grad=True))"
      ]
     },
     "execution_count": 16,
     "metadata": {},
     "output_type": "execute_result"
    }
   ],
   "source": [
    "import torch\n",
    "from torch import nn\n",
    "import torch.nn.functional as F\n",
    "from nosaveddata import *\n",
    "\n",
    "seed_np_torch(42)\n",
    "\n",
    "def network_ema(target_network, new_network, alpha=0.5):\n",
    "    for param_target, param_new  in zip(target_network.cuda().parameters(), new_network.parameters()):\n",
    "        param_target.data = alpha * param_target.data + (1 - alpha) * param_new.data.clone()\n",
    "\n",
    "\n",
    "class Modeld(nsd_Module):\n",
    "    def __init__(self):\n",
    "        super().__init__()\n",
    "\n",
    "        self.linear = nn.Linear(10,32)\n",
    "        self.ln = nn.LayerNorm(32)\n",
    "\n",
    "    def forward(self,X):\n",
    "        return self.ln(self.linear(X))\n",
    "\n",
    "m = Modeld()\n",
    "m_rand= Modeld()\n",
    "\n",
    "x=torch.randn(1,10)\n",
    "optim=torch.optim.AdamW(m.parameters(), lr=1e-4)\n",
    "\n",
    "\n",
    "loss = m(x).sum()\n",
    "loss.backward()\n",
    "#\n",
    "optim.step()\n",
    "optim.zero_grad()\n",
    "\n",
    "m.ln.weight, m.linear.weight"
   ]
  },
  {
   "cell_type": "code",
   "execution_count": 2,
   "id": "a3912798-5ac5-43f3-b591-98c21b5f71e8",
   "metadata": {},
   "outputs": [
    {
     "name": "stderr",
     "output_type": "stream",
     "text": [
      "C:\\Users\\sneep\\anaconda3\\envs\\python_\\Lib\\site-packages\\tqdm\\auto.py:21: TqdmWarning: IProgress not found. Please update jupyter and ipywidgets. See https://ipywidgets.readthedocs.io/en/stable/user_install.html\n",
      "  from .autonotebook import tqdm as notebook_tqdm\n",
      "C:\\Users\\sneep\\anaconda3\\envs\\python_\\Lib\\site-packages\\diffusers\\utils\\outputs.py:63: UserWarning: torch.utils._pytree._register_pytree_node is deprecated. Please use torch.utils._pytree.register_pytree_node instead.\n",
      "  torch.utils._pytree._register_pytree_node(\n"
     ]
    },
    {
     "data": {
      "text/plain": [
       "tensor([[False, False, False, False, False, False, False, False, False, False],\n",
       "        [False, False, False, False, False, False, False, False, False, False]],\n",
       "       device='cuda:0')"
      ]
     },
     "execution_count": 2,
     "metadata": {},
     "output_type": "execute_result"
    }
   ],
   "source": [
    "from nosaveddata import *\n",
    "import torch\n",
    "from torch import nn\n",
    "\n",
    "model = nn.Linear(10,2).cuda()\n",
    "model.apply(init_xavier)\n",
    "model2 = nn.Linear(10,2).cuda()\n",
    "network_ema(model, model2, 0)\n",
    "model.apply(init_xavier)\n",
    "\n",
    "model.weight.data==model2.weight.data"
   ]
  },
  {
   "cell_type": "markdown",
   "id": "fe94662c-07ea-4abb-b390-a28cf08d5a81",
   "metadata": {},
   "source": [
    "<h1>Preprocessing</h1>"
   ]
  },
  {
   "cell_type": "code",
   "execution_count": 11,
   "id": "4b3a89a6-7f64-4075-8138-50b0e8229dd8",
   "metadata": {
    "scrolled": true
   },
   "outputs": [
    {
     "ename": "FileNotFoundError",
     "evalue": "[Errno 2] No such file or directory: 'C:/Users/Augusto/Python/PyTorch/RL/mc_data/4/2023_01_09_14_48_09_100636/7,0,0,0,0,0,0,0,0,0,0,0,0,3,0,.jpg'",
     "output_type": "error",
     "traceback": [
      "\u001b[1;31m---------------------------------------------------------------------------\u001b[0m",
      "\u001b[1;31mFileNotFoundError\u001b[0m                         Traceback (most recent call last)",
      "Cell \u001b[1;32mIn[11], line 21\u001b[0m\n\u001b[0;32m     12\u001b[0m path \u001b[38;5;241m=\u001b[39m \u001b[38;5;124m'\u001b[39m\u001b[38;5;124mC:/Users/Augusto/Python/PyTorch/RL/mc_data/4/2023_01_09_14_48_09_100636/7,0,0,0,0,0,0,0,0,0,0,0,0,3,0,.jpg\u001b[39m\u001b[38;5;124m'\u001b[39m\n\u001b[0;32m     16\u001b[0m tfms \u001b[38;5;241m=\u001b[39m transforms\u001b[38;5;241m.\u001b[39mCompose([\n\u001b[0;32m     17\u001b[0m                            transforms\u001b[38;5;241m.\u001b[39mResize((\u001b[38;5;241m96\u001b[39m, \u001b[38;5;241m72\u001b[39m)),\n\u001b[0;32m     18\u001b[0m                            transforms\u001b[38;5;241m.\u001b[39mToTensor()\n\u001b[0;32m     19\u001b[0m                         ])\n\u001b[1;32m---> 21\u001b[0m img \u001b[38;5;241m=\u001b[39m Image\u001b[38;5;241m.\u001b[39mopen(path)\n\u001b[0;32m     22\u001b[0m imgs\u001b[38;5;241m=\u001b[39m[]\n\u001b[0;32m     23\u001b[0m \u001b[38;5;28;01mfor\u001b[39;00m p \u001b[38;5;129;01min\u001b[39;00m paths:\n",
      "File \u001b[1;32m~\\anaconda3\\envs\\python_\\Lib\\site-packages\\PIL\\Image.py:3243\u001b[0m, in \u001b[0;36mopen\u001b[1;34m(fp, mode, formats)\u001b[0m\n\u001b[0;32m   3240\u001b[0m     filename \u001b[38;5;241m=\u001b[39m fp\n\u001b[0;32m   3242\u001b[0m \u001b[38;5;28;01mif\u001b[39;00m filename:\n\u001b[1;32m-> 3243\u001b[0m     fp \u001b[38;5;241m=\u001b[39m builtins\u001b[38;5;241m.\u001b[39mopen(filename, \u001b[38;5;124m\"\u001b[39m\u001b[38;5;124mrb\u001b[39m\u001b[38;5;124m\"\u001b[39m)\n\u001b[0;32m   3244\u001b[0m     exclusive_fp \u001b[38;5;241m=\u001b[39m \u001b[38;5;28;01mTrue\u001b[39;00m\n\u001b[0;32m   3246\u001b[0m \u001b[38;5;28;01mtry\u001b[39;00m:\n",
      "\u001b[1;31mFileNotFoundError\u001b[0m: [Errno 2] No such file or directory: 'C:/Users/Augusto/Python/PyTorch/RL/mc_data/4/2023_01_09_14_48_09_100636/7,0,0,0,0,0,0,0,0,0,0,0,0,3,0,.jpg'"
     ]
    }
   ],
   "source": [
    "from PIL import Image\n",
    "from matplotlib import pyplot as plt\n",
    "import numpy as np\n",
    "import os, glob\n",
    "from nosaveddata import *\n",
    "\n",
    "\n",
    "import torchvision\n",
    "from torchvision import transforms\n",
    "\n",
    "paths = glob.glob('C:/Users/Augusto/Python/PyTorch/RL/mc_data/4/2023_01_09_14_48_09_100636/*.jpg')\n",
    "path = 'C:/Users/Augusto/Python/PyTorch/RL/mc_data/4/2023_01_09_14_48_09_100636/7,0,0,0,0,0,0,0,0,0,0,0,0,3,0,.jpg'\n",
    "\n",
    "\n",
    "\n",
    "tfms = transforms.Compose([\n",
    "                           transforms.Resize((96, 72)),\n",
    "                           transforms.ToTensor()\n",
    "                        ])\n",
    "\n",
    "img = Image.open(path)\n",
    "imgs=[]\n",
    "for p in paths:\n",
    "    imgs.append(tfms(Image.open(p)))\n",
    "imgs=torch.stack(imgs)\n",
    "\n",
    "print(imgs.shape)\n",
    "\n",
    "\n",
    "\n",
    "imgs, augments_applied = preprocess_iwm_no_solarize(imgs)\n",
    "    \n",
    "\n",
    "\n",
    "#plt.imshow(img_tfms)\n",
    "plot_imgs(imgs.permute(0,2,3,1))\n",
    "augments_applied"
   ]
  },
  {
   "cell_type": "code",
   "execution_count": 8,
   "id": "f3a6f04e-3fe2-4c94-8984-2e74348e007b",
   "metadata": {},
   "outputs": [
    {
     "data": {
      "text/plain": [
       "torch.Size([32, 12, 96, 72])"
      ]
     },
     "execution_count": 8,
     "metadata": {},
     "output_type": "execute_result"
    }
   ],
   "source": [
    "import torch\n",
    "from torch import nn\n",
    "import torch.nn.functional as F\n",
    "\n",
    "from nosaveddata import *\n",
    "\n",
    "\n",
    "\n",
    "def gray_scale_stacked(X, p=0.2, stacks=4):\n",
    "    # Input: Tensor T e (B,C,T,D)\n",
    "    \n",
    "    probs = get_img_preprocessing_prob(X.shape[0], p, X.device)\n",
    "    stacked_probs = probs.repeat_interleave(stacks,0)\n",
    "    X = X.view(-1,X.shape[1]//stacks,*X.shape[-2:])\n",
    "    \n",
    "    gray_img = X.mean(1,keepdim=True).expand(-1,3,-1,-1)\n",
    "    \n",
    "    X = (1-stacked_probs)*X + stacked_probs*gray_img\n",
    "    \n",
    "    return X.view(X.shape[0]//stacks, -1, *X.shape[-2:]), probs.squeeze()\n",
    "\n",
    "def gaussian_blur(X, p=0.2, stacks=4, sigma_min=0.1, sigma_max=2):\n",
    "    # Input: Tensor T e (B,C,T,D)\n",
    "    \n",
    "    probs = get_img_preprocessing_prob(X.shape[0], p, X.device)\n",
    "    tfms = transforms.GaussianBlur(3, (sigma_min, sigma_max))\n",
    "    \n",
    "    blurred = tfms(X)\n",
    "    X = (1-probs)*X + probs*blurred\n",
    "    \n",
    "    return X, probs.squeeze()\n",
    "\n",
    "def solarization_stacked(X, p=0.2, stacks=4):\n",
    "    # Input: Tensor T e (B,C,T,D)\n",
    "\n",
    "    probs = get_img_preprocessing_prob(X.shape[0], p, X.device)\n",
    "    stacked_probs = probs.repeat_interleave(stacks,0)\n",
    "    \n",
    "    X = X.view(-1,X.shape[1]//stacks,*X.shape[-2:])\n",
    "    \n",
    "    tfms = transforms.RandomSolarize(0,p=1) # This prob is applied over all the batch or no image at all\n",
    "    \n",
    "    solarized = tfms(X)\n",
    "    X = (1-stacked_probs)*X + stacked_probs*solarized\n",
    "    \n",
    "    return X.view(X.shape[0]//stacks, -1, *X.shape[-2:]), probs.squeeze()\n",
    "\n",
    "\n",
    "def preprocess_iwm_stacked(imgs, p=0.2, stacks=4):\n",
    "    # Applies the same preprocessing for all images in the sequence, but separated by each beach\n",
    "    augments_applied=[]\n",
    "    \n",
    "    imgs, augmented = gray_scale_stacked(imgs, p, stacks)\n",
    "    augments_applied.append(augmented)\n",
    "    \n",
    "    imgs, augmented = gaussian_blur_stacked(imgs, p, stacks)\n",
    "    augments_applied.append(augmented)\n",
    "    \n",
    "    imgs, augmented = solarization_stacked(imgs, p, stacks)\n",
    "    augments_applied.append(augmented)\n",
    "    \n",
    "    augments_applied = torch.stack(augments_applied,1)\n",
    "    return imgs, augments_applied\n",
    "\n",
    "preprocess_iwm_stacked(torch.randn(32,12,96,72, device='cuda'))[0].shape"
   ]
  },
  {
   "cell_type": "code",
   "execution_count": null,
   "id": "880deeee-5d84-47ef-9775-583dffaba410",
   "metadata": {},
   "outputs": [],
   "source": [
    "plot_img(imgs[-1].permute(1,2,0))"
   ]
  },
  {
   "cell_type": "markdown",
   "id": "49c2cb75-c68e-4775-aa5f-0a5afcec9a9a",
   "metadata": {},
   "source": [
    "<h1>DiT</h1>"
   ]
  },
  {
   "cell_type": "code",
   "execution_count": 3,
   "id": "892bf794-e949-4766-a710-0b7002597581",
   "metadata": {},
   "outputs": [
    {
     "name": "stdout",
     "output_type": "stream",
     "text": [
      "GPT Transformer Parameters: 31.91M\n"
     ]
    },
    {
     "data": {
      "text/plain": [
       "torch.Size([32, 4, 32, 32])"
      ]
     },
     "execution_count": 3,
     "metadata": {},
     "output_type": "execute_result"
    }
   ],
   "source": [
    "import torch\n",
    "from torch import nn\n",
    "import torch.nn.functional as F\n",
    "\n",
    "from nosaveddata import *\n",
    "\n",
    "unet = UNet_DiT_S_4(in_channels=4).cuda()\n",
    "x=torch.randn(32,4,32,32).cuda()\n",
    "c=torch.randn(32,384).cuda()\n",
    "t=torch.randint(0,1000,(32,)).cuda()\n",
    "unet(x,t).shape"
   ]
  },
  {
   "cell_type": "code",
   "execution_count": 3,
   "id": "aea6bc6f-523d-4dfa-8ae1-8412cd2d0b3f",
   "metadata": {},
   "outputs": [
    {
     "name": "stdout",
     "output_type": "stream",
     "text": [
      "DiT Transformer Parameters: 2.38M\n"
     ]
    },
    {
     "data": {
      "text/plain": [
       "torch.Size([16, 108, 128])"
      ]
     },
     "execution_count": 3,
     "metadata": {},
     "output_type": "execute_result"
    }
   ],
   "source": [
    "import torch\n",
    "from torch import nn\n",
    "import torch.nn.functional as F\n",
    "\n",
    "from nosaveddata import *\n",
    "\n",
    "\n",
    "model = DiT_Transformer(128, 8, 8, 108).cuda()\n",
    "\n",
    "X = torch.randn(16,108,128).cuda()\n",
    "c = torch.randn(16,128).cuda()\n",
    "\n",
    "model(X,c).shape"
   ]
  },
  {
   "cell_type": "code",
   "execution_count": null,
   "id": "86dcafb6-0a86-4b23-a858-ffd84d0d0aeb",
   "metadata": {},
   "outputs": [],
   "source": [
    "model = DiT_Transformer(512, 8, 8, 128).cuda()\n",
    "\n",
    "X = torch.randn(16,128,512).cuda()\n",
    "c = torch.randn(16,512).cuda()\n",
    "\n",
    "model(X,c).shape"
   ]
  },
  {
   "cell_type": "code",
   "execution_count": null,
   "id": "3a6a7bc2-2f1d-4bd2-a116-59fe67d4e0f5",
   "metadata": {},
   "outputs": [],
   "source": []
  },
  {
   "cell_type": "code",
   "execution_count": null,
   "id": "3c34211d-6121-49b9-8e8e-ac989892c917",
   "metadata": {},
   "outputs": [],
   "source": []
  }
 ],
 "metadata": {
  "kernelspec": {
   "display_name": "Python 3 (ipykernel)",
   "language": "python",
   "name": "python3"
  },
  "language_info": {
   "codemirror_mode": {
    "name": "ipython",
    "version": 3
   },
   "file_extension": ".py",
   "mimetype": "text/x-python",
   "name": "python",
   "nbconvert_exporter": "python",
   "pygments_lexer": "ipython3",
   "version": "3.11.5"
  }
 },
 "nbformat": 4,
 "nbformat_minor": 5
}
