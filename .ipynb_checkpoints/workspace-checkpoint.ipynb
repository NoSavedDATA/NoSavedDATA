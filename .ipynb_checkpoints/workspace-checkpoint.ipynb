{
 "cells": [
  {
   "cell_type": "code",
   "execution_count": 1,
   "id": "7d60d1d3-e4c8-44f5-9eb1-aec42c84f229",
   "metadata": {},
   "outputs": [
    {
     "name": "stderr",
     "output_type": "stream",
     "text": [
      "C:\\Users\\sneep\\anaconda3\\envs\\python_\\Lib\\site-packages\\tqdm\\auto.py:21: TqdmWarning: IProgress not found. Please update jupyter and ipywidgets. See https://ipywidgets.readthedocs.io/en/stable/user_install.html\n",
      "  from .autonotebook import tqdm as notebook_tqdm\n",
      "C:\\Users\\sneep\\anaconda3\\envs\\python_\\Lib\\site-packages\\diffusers\\utils\\outputs.py:63: UserWarning: torch.utils._pytree._register_pytree_node is deprecated. Please use torch.utils._pytree.register_pytree_node instead.\n",
      "  torch.utils._pytree._register_pytree_node(\n"
     ]
    },
    {
     "name": "stdout",
     "output_type": "stream",
     "text": [
      "GPT Transformer Parameters: 1.58M\n",
      "ViT Encoder Parameters: 1.68M\n"
     ]
    },
    {
     "name": "stderr",
     "output_type": "stream",
     "text": [
      "C:\\Users\\sneep\\Python\\nosaveddata\\nosaveddata\\builders\\transformer.py:68: UserWarning: 1Torch was not compiled with flash attention. (Triggered internally at ..\\aten\\src\\ATen\\native\\transformers\\cuda\\sdp_utils.cpp:263.)\n",
      "  y = torch.nn.functional.scaled_dot_product_attention(q, k, v, attn_mask=None, dropout_p=self.dropout if self.training else 0, is_causal=is_causal)\n"
     ]
    },
    {
     "data": {
      "text/plain": [
       "torch.Size([16, 27, 128])"
      ]
     },
     "execution_count": 1,
     "metadata": {},
     "output_type": "execute_result"
    }
   ],
   "source": [
    "import torch\n",
    "import torch.nn as nn\n",
    "import torch.nn.functional as F\n",
    "\n",
    "from nosaveddata import *\n",
    "\n",
    "import numpy as np\n",
    "\n",
    "\n",
    "model = ViT(128, 8, 4, first_channel=3).cuda()\n",
    "\n",
    "model(torch.randn(16,3,96,72).cuda()).shape"
   ]
  },
  {
   "cell_type": "code",
   "execution_count": 2,
   "id": "97f86914-537d-429b-adb4-49259296d173",
   "metadata": {},
   "outputs": [
    {
     "name": "stdout",
     "output_type": "stream",
     "text": [
      "GPT Transformer Parameters: 1.58M\n",
      "GPT Transformer Parameters: 0.21M\n",
      "ViT Temporal Parameters: 1.89M\n"
     ]
    },
    {
     "data": {
      "text/plain": [
       "torch.Size([16, 27, 128])"
      ]
     },
     "execution_count": 2,
     "metadata": {},
     "output_type": "execute_result"
    }
   ],
   "source": [
    "\n",
    "model = ViT_Temporal(128, 8, temporal_aggr_num_blks=1, nhead=4, first_channel=3).cuda()\n",
    "\n",
    "model(torch.randn(16,12,96,72).cuda()).shape"
   ]
  },
  {
   "cell_type": "code",
   "execution_count": 23,
   "id": "4dcd9b8d-63eb-41c9-bc68-21d104f36874",
   "metadata": {},
   "outputs": [
    {
     "name": "stdout",
     "output_type": "stream",
     "text": [
      "GPT Transformer Parameters: 1.59M\n",
      "GPT Transformer Parameters: 0.25M\n",
      "ViT Temporal Parameters: 1.87M\n",
      "GPT Transformer Parameters: 1.59M\n",
      "IWM Parameters: 3.54M\n",
      "post temporal torch.Size([16, 108, 128])\n",
      "torch.Size([16, 108, 128])\n"
     ]
    },
    {
     "data": {
      "text/plain": [
       "(torch.Size([16, 27, 128]),\n",
       " torch.Size([16, 27, 128]),\n",
       " tensor(6.9166, device='cuda:0', grad_fn=<MeanBackward0>))"
      ]
     },
     "execution_count": 23,
     "metadata": {},
     "output_type": "execute_result"
    }
   ],
   "source": [
    "\n",
    "class ViT_IWM(nn.Module):\n",
    "    def __init__(self, encoder, d_encoder,\n",
    "                 d_predictor, num_blks_predictor, nhead_predictor,\n",
    "                 out_dim=2048,\n",
    "                 stacked_frames=4,\n",
    "                 masked_tokens=4,\n",
    "                 num_augmentations=3,\n",
    "                 dropout = 0.1, bias=False, report_params_count=True,\n",
    "                 ffn_mult=4):\n",
    "        super().__init__()\n",
    "        self.d_encoder = d_encoder\n",
    "        self.stacked_frames=stacked_frames\n",
    "        \n",
    "        self.patches = encoder.patches\n",
    "        self.N = encoder.N\n",
    "        self.masked_tokens=self.N//masked_tokens\n",
    "        \n",
    "        self.encoder = encoder\n",
    "        \n",
    "        self.predictor_proj = MLP(d_encoder, out_hiddens=d_predictor, last_init=init_xavier) \\\n",
    "                              if d_predictor!=d_encoder else nn.Identity()\n",
    "        \n",
    "        self.predictor = GPT_Transformer(d_predictor, num_blks_predictor, nhead_predictor, seq_len=self.N,\n",
    "                 dropout = dropout, bias=bias, report_params_count=report_params_count,\n",
    "                 ffn_mult=ffn_mult)\n",
    "        \n",
    "        self.mask = MLP(1, out_hiddens=d_encoder, last_init=init_xavier)\n",
    "        self.mask_pos_encoding = nn.Embedding(self.N, d_encoder)\n",
    "        self.mask_mlp = MLP(d_encoder+num_augmentations, d_encoder, d_encoder, layers=4, in_act=nn.ReLU(), out_act=nn.ReLU(),\n",
    "                            init=init_relu, last_init=init_relu)\n",
    "        \n",
    "        \n",
    "        params_count(self, 'IWM')\n",
    "\n",
    "    def hard_reset(self, new_network, alpha):\n",
    "        network_ema(self.encoder, new_network.encoder, alpha)\n",
    "        \n",
    "        network_ema(self.predictor_proj, new_network.predictor_proj, 0)\n",
    "        network_ema(self.predictor, new_network.predictor, 0)\n",
    "\n",
    "        network_ema(self.mask, new_network.mask, 0)\n",
    "        network_ema(self.mask_pos_encoding, new_network.mask_pos_encoding, 0)\n",
    "        network_ema(self.mask_mlp, new_network.mask_mlp, 0)\n",
    "    \n",
    "    def get_mask(self, X, augmentations):\n",
    "        B, T, D = X.shape\n",
    "        B = B//self.stacked_frames\n",
    "        m_rand = random.randint(0,self.masked_tokens*2)\n",
    "        \n",
    "        mask_pos = torch.randint(0, T, (B,self.masked_tokens+m_rand), device='cuda')\n",
    "        mask_pos_repeat = mask_pos.repeat_interleave(self.stacked_frames,0)\n",
    "        \n",
    "        X_mask_pos = (mask_pos_repeat + torch.arange(B, device='cuda').repeat_interleave(self.stacked_frames,0)[:,None]*B).view(-1)\n",
    "        \n",
    "        \n",
    "        mask = self.mask(torch.ones(B*self.stacked_frames,self.masked_tokens+m_rand,1, device='cuda'))\n",
    "        \n",
    "        mask = mask + self.mask_pos_encoding(mask_pos_repeat)\n",
    "        augmentations = augmentations.repeat_interleave(self.stacked_frames,0)[:,None].expand(-1,mask.shape[1],-1)\n",
    "        \n",
    "        mask = self.mask_mlp(torch.cat((mask,augmentations),-1))\n",
    "        \n",
    "        \n",
    "        X.view(-1,D)[X_mask_pos]=X.view(-1,D)[X_mask_pos]*0+mask.view(-1,D)\n",
    "        \n",
    "        mask_pos = mask_pos[:,:self.masked_tokens,None].expand(-1,-1,X.shape[-1])\n",
    "        \n",
    "        \n",
    "        return X, mask_pos\n",
    "    \n",
    "    def encode(self, X):\n",
    "        return self.encoder(X)\n",
    "\n",
    "    \n",
    "    def forward(self, X, y, augmentations):\n",
    "        X = self.encoder.proj(X)\n",
    "        X_masked, mask_pos = self.get_mask(X, augmentations)\n",
    "        X = self.encoder.transformers(X_masked)\n",
    "        \n",
    "        X = self.predictor_proj(X)\n",
    "        \n",
    "        X = self.predictor(X)\n",
    "        mask_pos = mask_pos.contiguous().view(X.shape[0], -1, X.shape[-1])\n",
    "        \n",
    "        return X.gather(1,mask_pos), y.gather(1,mask_pos)\n",
    "\n",
    "encoder = ViT_Temporal(128, 8, patches=(8,8), temporal_aggr_num_blks=1, nhead=4, first_channel=3).cuda()\n",
    "\n",
    "model = ViT_IWM(encoder, 128,\n",
    "                128, 8, 4).cuda()\n",
    "\n",
    "x = torch.randn(16,12,96,72).cuda()\n",
    "\n",
    "with torch.no_grad():\n",
    "    y = model.encode(torch.randn(16,12,96,72).cuda())\n",
    "\n",
    "print(f\"\\npost temporal {y.shape}\\n\")\n",
    "augmentations = torch.bernoulli(torch.ones(x.shape[0], 3)*0.2).cuda()\n",
    "\n",
    "x, y_tgt = model(x, model.predictor_proj(y), augmentations)\n",
    "\n",
    "loss = nn.MSELoss(reduction='none')\n",
    "\n",
    "x=F.normalize(x)\n",
    "y_tgt=F.normalize(y_tgt)\n",
    "\n",
    "print(y.shape)\n",
    "\n",
    "\n",
    "x.shape, y_tgt.shape, loss(x,y_tgt).sum(-1).mean()\n",
    "\n",
    "\n",
    "\n",
    "#model.encode(torch.randn(32,12,96,72).cuda()).shape"
   ]
  },
  {
   "cell_type": "code",
   "execution_count": 95,
   "id": "be15b16f-89ed-44ac-946a-1fa22711f76a",
   "metadata": {},
   "outputs": [
    {
     "name": "stdout",
     "output_type": "stream",
     "text": [
      "0.08193082362413406\n",
      "0.025160208344459534\n"
     ]
    }
   ],
   "source": [
    "import torch\n",
    "from torch import nn\n",
    "\n",
    "def init_saving_variance(module, num_blks):\n",
    "    \n",
    "    torch.nn.init.xavier_uniform_(module.weight, gain=torch.tensor(9*num_blks).pow(-1/4))\n",
    "    if hasattr(module, 'bias'):\n",
    "        if module.bias is not None:\n",
    "            torch.nn.init.zeros_(module.bias)\n",
    "            \n",
    "model = nn.Embedding(32,512)\n",
    "print(f\"{model.weight[0,0]}\")\n",
    "init_saving_variance(model, 3)\n",
    "print(f\"{model.weight[0,0]}\")"
   ]
  },
  {
   "cell_type": "code",
   "execution_count": 26,
   "id": "2752ee96-5262-4cdf-b4f2-2877929256b6",
   "metadata": {},
   "outputs": [
    {
     "data": {
      "text/plain": [
       "(2, 16, 8)"
      ]
     },
     "execution_count": 26,
     "metadata": {},
     "output_type": "execute_result"
    }
   ],
   "source": [
    "2%3, 192//12, 128//16b"
   ]
  },
  {
   "cell_type": "code",
   "execution_count": 19,
   "id": "fab9435f-3676-4b98-8017-c2548314067d",
   "metadata": {},
   "outputs": [
    {
     "data": {
      "text/plain": [
       "(0.04419417382415922, tensor(0.3102), tensor(0.5939))"
      ]
     },
     "execution_count": 19,
     "metadata": {},
     "output_type": "execute_result"
    }
   ],
   "source": [
    "import math\n",
    "import torch\n",
    "\n",
    "a=torch.tensor(9*12)\n",
    "b=torch.tensor(0.67*12)\n",
    "\n",
    "\n",
    "math.sqrt(2/(512*2)), (a).pow(-1/4), (b).pow(-1/4)"
   ]
  },
  {
   "cell_type": "code",
   "execution_count": 8,
   "id": "187ab817-6e48-4151-89d5-222fa0af26a0",
   "metadata": {},
   "outputs": [
    {
     "data": {
      "text/plain": [
       "(8.0, 6.0, 6144)"
      ]
     },
     "execution_count": 8,
     "metadata": {},
     "output_type": "execute_result"
    }
   ],
   "source": [
    "96/12, 72/12, 48*128"
   ]
  },
  {
   "cell_type": "code",
   "execution_count": 5,
   "id": "f15df7fa-d5c7-401f-ab76-146331e21c90",
   "metadata": {},
   "outputs": [
    {
     "data": {
      "text/plain": [
       "(29.4, 39.2)"
      ]
     },
     "execution_count": 5,
     "metadata": {},
     "output_type": "execute_result"
    }
   ],
   "source": [
    "0.15*196, 0.2*196"
   ]
  },
  {
   "cell_type": "code",
   "execution_count": 6,
   "id": "a3cd5510-d6f1-41fa-a01a-2a45ce0cbeab",
   "metadata": {},
   "outputs": [
    {
     "name": "stdout",
     "output_type": "stream",
     "text": [
      "IMPALA ResNet Parameters: 1.56M\n"
     ]
    }
   ],
   "source": [
    "model = IMPALA_Resnet(4,4)"
   ]
  },
  {
   "cell_type": "code",
   "execution_count": null,
   "id": "7b8575bf-d684-49b3-b61c-eb10a53c4436",
   "metadata": {},
   "outputs": [],
   "source": []
  },
  {
   "cell_type": "code",
   "execution_count": 7,
   "id": "b6fa2ef3-3baa-47a6-8d2b-23807fe0432b",
   "metadata": {},
   "outputs": [],
   "source": [
    "import torch\n",
    "import torch.nn as nn\n",
    "import torch.nn.functional as F\n",
    "\n",
    "from nosaveddata import *\n",
    "\n",
    "import numpy as np"
   ]
  },
  {
   "cell_type": "code",
   "execution_count": 8,
   "id": "1be3b499-7bc0-4f94-a872-d8843e9cc110",
   "metadata": {},
   "outputs": [],
   "source": [
    "class UNet_DiT(nn.Module):\n",
    "    def __init__(self, in_channels, d_model, num_blks, nhead, patch=(2,2), img_size=(32,32),\n",
    "                             dropout = 0.1, bias=False, report_params_count=True,\n",
    "                             ffn_mult=4):\n",
    "        super().__init__()\n",
    "        self.first_channel=in_channels\n",
    "        self.patches = np.prod(patch)\n",
    "        self.img_size=img_size\n",
    "        self.N = int(np.prod(img_size)/self.patches)\n",
    "        \n",
    "        self.ts = TimestepEmbedder(d_model)\n",
    "        \n",
    "        self.in_proj = MLP(in_channels*self.patches, out_hiddens=d_model, last_init=init_xavier)\n",
    "        \n",
    "        self.dit =  DiT_Transformer(d_model, num_blks, nhead, self.patches,\n",
    "                             dropout = 0.1, bias=False, report_params_count=True,\n",
    "                             ffn_mult=4)\n",
    "        self.final_layer = DiT_FinalLayer(d_model, patch, in_channels)\n",
    "        \n",
    "        self.init_weights()\n",
    "    \n",
    "    def init_weights(self):\n",
    "        # Zero-out output layers:\n",
    "        self.final_layer.adaLN_modulation[-1].apply(init_zeros)\n",
    "        self.final_layer.linear.apply(init_zeros)\n",
    "    \n",
    "    def patchify(self, X):\n",
    "        X = X.view(-1, self.patches*self.first_channel, self.N).transpose(-2,-1)\n",
    "        return X\n",
    "    def depatchify(self, X):\n",
    "        X = X.transpose(-2,-1).contiguous().view(-1, self.first_channel,*self.img_size)\n",
    "        return X\n",
    "    \n",
    "    def forward(self, x, t):\n",
    "        c = self.ts(t)\n",
    "        \n",
    "        x = self.patchify(x)\n",
    "        x = self.in_proj(x)\n",
    "        \n",
    "        print(x.shape)\n",
    "        x = self.dit(x, c)\n",
    "        \n",
    "        x = self.final_layer(x, c)\n",
    "        x = self.depatchify(x)\n",
    "        \n",
    "        return x\n",
    "\n",
    "\n",
    "class UNet_DiT_1D(nn.Module):\n",
    "    def __init__(self, in_channels, d_model, num_blks, nhead, seq_len,\n",
    "                             dropout = 0.1, bias=False, report_params_count=True,\n",
    "                             ffn_mult=4):\n",
    "        super().__init__()\n",
    "        self.first_channel=in_channels\n",
    "        \n",
    "        self.ts = TimestepEmbedder(d_model)\n",
    "        \n",
    "        self.in_proj = MLP(in_channels, out_hiddens=d_model, last_init=init_xavier) if in_channels!=d_model else nn.Identity()\n",
    "        \n",
    "        self.dit =  DiT_Transformer(d_model, num_blks, nhead, seq_len,\n",
    "                             dropout = 0.1, bias=False, report_params_count=True,\n",
    "                             ffn_mult=4)\n",
    "        \n",
    "        self.out_proj = MLP(d_model, out_hiddens=in_channels, last_init=init_xavier) if in_channels!=d_model else nn.Identity()\n",
    "        \n",
    "    \n",
    "    def forward(self, x, t):\n",
    "        c = self.ts(t)\n",
    "        x = self.in_proj(x)\n",
    "        x = self.dit(x, c)\n",
    "        x = self.out_proj(x)\n",
    "        return x"
   ]
  },
  {
   "cell_type": "code",
   "execution_count": 9,
   "id": "54330876-b2af-4963-9053-6154632486f8",
   "metadata": {},
   "outputs": [
    {
     "name": "stdout",
     "output_type": "stream",
     "text": [
      "DiT Transformer Parameters: 37.80M\n",
      "torch.Size([16, 33, 512])\n"
     ]
    }
   ],
   "source": [
    "#model = UNet_DiT(4, 512, 8, 8, patch=(4,4)).cuda()\n",
    "\n",
    "#x=torch.randn(16,4,32,32).cuda()\n",
    "x=torch.randn(16,33,512).cuda()\n",
    "c=torch.randint(0,1000,(x.shape[0],)).cuda()\n",
    "\n",
    "\n",
    "model = UNet_DiT_1D(512, 512, 8, 8, seq_len=33).cuda()\n",
    "#model = UNet_DiT_XL_2(in_channels=4, img_size=(32,32)).cuda()\n",
    "#model = UNet_DiT_XL_2(in_channels=4, patch=(2,2), img_size=(32,32)).cuda()\n",
    "\n",
    "with torch.no_grad():\n",
    "    print(model(x,c).shape)"
   ]
  },
  {
   "cell_type": "code",
   "execution_count": 10,
   "id": "a3912798-5ac5-43f3-b591-98c21b5f71e8",
   "metadata": {},
   "outputs": [
    {
     "data": {
      "text/plain": [
       "tensor([[True, True, True, True, True, True, True, True, True, True],\n",
       "        [True, True, True, True, True, True, True, True, True, True]],\n",
       "       device='cuda:0')"
      ]
     },
     "execution_count": 10,
     "metadata": {},
     "output_type": "execute_result"
    }
   ],
   "source": [
    "model = nn.Linear(10,2).cuda()\n",
    "model.apply(init_xavier)\n",
    "model2 = nn.Linear(10,2).cuda()\n",
    "network_ema(model, model2, 0)\n",
    "#model.apply(init_xavier)\n",
    "\n",
    "model.weight.data==model2.weight.data"
   ]
  },
  {
   "cell_type": "markdown",
   "id": "fe94662c-07ea-4abb-b390-a28cf08d5a81",
   "metadata": {},
   "source": [
    "<h1>Preprocessing</h1>"
   ]
  },
  {
   "cell_type": "code",
   "execution_count": 11,
   "id": "4b3a89a6-7f64-4075-8138-50b0e8229dd8",
   "metadata": {
    "scrolled": true
   },
   "outputs": [
    {
     "ename": "FileNotFoundError",
     "evalue": "[Errno 2] No such file or directory: 'C:/Users/Augusto/Python/PyTorch/RL/mc_data/4/2023_01_09_14_48_09_100636/7,0,0,0,0,0,0,0,0,0,0,0,0,3,0,.jpg'",
     "output_type": "error",
     "traceback": [
      "\u001b[1;31m---------------------------------------------------------------------------\u001b[0m",
      "\u001b[1;31mFileNotFoundError\u001b[0m                         Traceback (most recent call last)",
      "Cell \u001b[1;32mIn[11], line 21\u001b[0m\n\u001b[0;32m     12\u001b[0m path \u001b[38;5;241m=\u001b[39m \u001b[38;5;124m'\u001b[39m\u001b[38;5;124mC:/Users/Augusto/Python/PyTorch/RL/mc_data/4/2023_01_09_14_48_09_100636/7,0,0,0,0,0,0,0,0,0,0,0,0,3,0,.jpg\u001b[39m\u001b[38;5;124m'\u001b[39m\n\u001b[0;32m     16\u001b[0m tfms \u001b[38;5;241m=\u001b[39m transforms\u001b[38;5;241m.\u001b[39mCompose([\n\u001b[0;32m     17\u001b[0m                            transforms\u001b[38;5;241m.\u001b[39mResize((\u001b[38;5;241m96\u001b[39m, \u001b[38;5;241m72\u001b[39m)),\n\u001b[0;32m     18\u001b[0m                            transforms\u001b[38;5;241m.\u001b[39mToTensor()\n\u001b[0;32m     19\u001b[0m                         ])\n\u001b[1;32m---> 21\u001b[0m img \u001b[38;5;241m=\u001b[39m Image\u001b[38;5;241m.\u001b[39mopen(path)\n\u001b[0;32m     22\u001b[0m imgs\u001b[38;5;241m=\u001b[39m[]\n\u001b[0;32m     23\u001b[0m \u001b[38;5;28;01mfor\u001b[39;00m p \u001b[38;5;129;01min\u001b[39;00m paths:\n",
      "File \u001b[1;32m~\\anaconda3\\envs\\python_\\Lib\\site-packages\\PIL\\Image.py:3243\u001b[0m, in \u001b[0;36mopen\u001b[1;34m(fp, mode, formats)\u001b[0m\n\u001b[0;32m   3240\u001b[0m     filename \u001b[38;5;241m=\u001b[39m fp\n\u001b[0;32m   3242\u001b[0m \u001b[38;5;28;01mif\u001b[39;00m filename:\n\u001b[1;32m-> 3243\u001b[0m     fp \u001b[38;5;241m=\u001b[39m builtins\u001b[38;5;241m.\u001b[39mopen(filename, \u001b[38;5;124m\"\u001b[39m\u001b[38;5;124mrb\u001b[39m\u001b[38;5;124m\"\u001b[39m)\n\u001b[0;32m   3244\u001b[0m     exclusive_fp \u001b[38;5;241m=\u001b[39m \u001b[38;5;28;01mTrue\u001b[39;00m\n\u001b[0;32m   3246\u001b[0m \u001b[38;5;28;01mtry\u001b[39;00m:\n",
      "\u001b[1;31mFileNotFoundError\u001b[0m: [Errno 2] No such file or directory: 'C:/Users/Augusto/Python/PyTorch/RL/mc_data/4/2023_01_09_14_48_09_100636/7,0,0,0,0,0,0,0,0,0,0,0,0,3,0,.jpg'"
     ]
    }
   ],
   "source": [
    "from PIL import Image\n",
    "from matplotlib import pyplot as plt\n",
    "import numpy as np\n",
    "import os, glob\n",
    "from nosaveddata import *\n",
    "\n",
    "\n",
    "import torchvision\n",
    "from torchvision import transforms\n",
    "\n",
    "paths = glob.glob('C:/Users/Augusto/Python/PyTorch/RL/mc_data/4/2023_01_09_14_48_09_100636/*.jpg')\n",
    "path = 'C:/Users/Augusto/Python/PyTorch/RL/mc_data/4/2023_01_09_14_48_09_100636/7,0,0,0,0,0,0,0,0,0,0,0,0,3,0,.jpg'\n",
    "\n",
    "\n",
    "\n",
    "tfms = transforms.Compose([\n",
    "                           transforms.Resize((96, 72)),\n",
    "                           transforms.ToTensor()\n",
    "                        ])\n",
    "\n",
    "img = Image.open(path)\n",
    "imgs=[]\n",
    "for p in paths:\n",
    "    imgs.append(tfms(Image.open(p)))\n",
    "imgs=torch.stack(imgs)\n",
    "\n",
    "print(imgs.shape)\n",
    "\n",
    "\n",
    "\n",
    "imgs, augments_applied = preprocess_iwm_no_solarize(imgs)\n",
    "    \n",
    "\n",
    "\n",
    "#plt.imshow(img_tfms)\n",
    "plot_imgs(imgs.permute(0,2,3,1))\n",
    "augments_applied"
   ]
  },
  {
   "cell_type": "code",
   "execution_count": 8,
   "id": "f3a6f04e-3fe2-4c94-8984-2e74348e007b",
   "metadata": {},
   "outputs": [
    {
     "data": {
      "text/plain": [
       "torch.Size([32, 12, 96, 72])"
      ]
     },
     "execution_count": 8,
     "metadata": {},
     "output_type": "execute_result"
    }
   ],
   "source": [
    "import torch\n",
    "from torch import nn\n",
    "import torch.nn.functional as F\n",
    "\n",
    "from nosaveddata import *\n",
    "\n",
    "\n",
    "\n",
    "def gray_scale_stacked(X, p=0.2, stacks=4):\n",
    "    # Input: Tensor T e (B,C,T,D)\n",
    "    \n",
    "    probs = get_img_preprocessing_prob(X.shape[0], p, X.device)\n",
    "    stacked_probs = probs.repeat_interleave(stacks,0)\n",
    "    X = X.view(-1,X.shape[1]//stacks,*X.shape[-2:])\n",
    "    \n",
    "    gray_img = X.mean(1,keepdim=True).expand(-1,3,-1,-1)\n",
    "    \n",
    "    X = (1-stacked_probs)*X + stacked_probs*gray_img\n",
    "    \n",
    "    return X.view(X.shape[0]//stacks, -1, *X.shape[-2:]), probs.squeeze()\n",
    "\n",
    "def gaussian_blur(X, p=0.2, stacks=4, sigma_min=0.1, sigma_max=2):\n",
    "    # Input: Tensor T e (B,C,T,D)\n",
    "    \n",
    "    probs = get_img_preprocessing_prob(X.shape[0], p, X.device)\n",
    "    tfms = transforms.GaussianBlur(3, (sigma_min, sigma_max))\n",
    "    \n",
    "    blurred = tfms(X)\n",
    "    X = (1-probs)*X + probs*blurred\n",
    "    \n",
    "    return X, probs.squeeze()\n",
    "\n",
    "def solarization_stacked(X, p=0.2, stacks=4):\n",
    "    # Input: Tensor T e (B,C,T,D)\n",
    "\n",
    "    probs = get_img_preprocessing_prob(X.shape[0], p, X.device)\n",
    "    stacked_probs = probs.repeat_interleave(stacks,0)\n",
    "    \n",
    "    X = X.view(-1,X.shape[1]//stacks,*X.shape[-2:])\n",
    "    \n",
    "    tfms = transforms.RandomSolarize(0,p=1) # This prob is applied over all the batch or no image at all\n",
    "    \n",
    "    solarized = tfms(X)\n",
    "    X = (1-stacked_probs)*X + stacked_probs*solarized\n",
    "    \n",
    "    return X.view(X.shape[0]//stacks, -1, *X.shape[-2:]), probs.squeeze()\n",
    "\n",
    "\n",
    "def preprocess_iwm_stacked(imgs, p=0.2, stacks=4):\n",
    "    # Applies the same preprocessing for all images in the sequence, but separated by each beach\n",
    "    augments_applied=[]\n",
    "    \n",
    "    imgs, augmented = gray_scale_stacked(imgs, p, stacks)\n",
    "    augments_applied.append(augmented)\n",
    "    \n",
    "    imgs, augmented = gaussian_blur_stacked(imgs, p, stacks)\n",
    "    augments_applied.append(augmented)\n",
    "    \n",
    "    imgs, augmented = solarization_stacked(imgs, p, stacks)\n",
    "    augments_applied.append(augmented)\n",
    "    \n",
    "    augments_applied = torch.stack(augments_applied,1)\n",
    "    return imgs, augments_applied\n",
    "\n",
    "preprocess_iwm_stacked(torch.randn(32,12,96,72, device='cuda'))[0].shape"
   ]
  },
  {
   "cell_type": "code",
   "execution_count": null,
   "id": "880deeee-5d84-47ef-9775-583dffaba410",
   "metadata": {},
   "outputs": [],
   "source": [
    "plot_img(imgs[-1].permute(1,2,0))"
   ]
  },
  {
   "cell_type": "markdown",
   "id": "49c2cb75-c68e-4775-aa5f-0a5afcec9a9a",
   "metadata": {},
   "source": [
    "<h1>DiT</h1>"
   ]
  },
  {
   "cell_type": "code",
   "execution_count": 3,
   "id": "aea6bc6f-523d-4dfa-8ae1-8412cd2d0b3f",
   "metadata": {},
   "outputs": [
    {
     "name": "stdout",
     "output_type": "stream",
     "text": [
      "DiT Transformer Parameters: 2.38M\n"
     ]
    },
    {
     "data": {
      "text/plain": [
       "torch.Size([16, 108, 128])"
      ]
     },
     "execution_count": 3,
     "metadata": {},
     "output_type": "execute_result"
    }
   ],
   "source": [
    "import torch\n",
    "from torch import nn\n",
    "import torch.nn.functional as F\n",
    "\n",
    "from nosaveddata import *\n",
    "\n",
    "\n",
    "model = DiT_Transformer(128, 8, 8, 108).cuda()\n",
    "\n",
    "X = torch.randn(16,108,128).cuda()\n",
    "c = torch.randn(16,128).cuda()\n",
    "\n",
    "model(X,c).shape"
   ]
  },
  {
   "cell_type": "code",
   "execution_count": null,
   "id": "514e243c-2125-4d02-baf1-0f20bcd780a8",
   "metadata": {},
   "outputs": [],
   "source": [
    "import torch\n",
    "import torch.nn as nn\n",
    "import torch.nn.functional as F\n",
    "\n",
    "from nosaveddata import *\n",
    "\n",
    "import numpy as np\n",
    "\n",
    "\n",
    "def modulate(x, shift, scale):\n",
    "    return x * (1 + scale[:,None]) + shift[:,None]\n",
    "    \n",
    "class DiT_Block(nn.Module):\n",
    "    def __init__(self, d_model, num_heads, dropout=0.0, bias=False, ffn_mult=4):\n",
    "        super().__init__()\n",
    "        self.ln_1 = LayerNormNoBias(d_model, bias=bias)\n",
    "        self.attn = Attention(d_model, num_heads, bias, dropout)\n",
    "        self.ln_2 = LayerNormNoBias(d_model, bias=bias)\n",
    "        self.mlp = FFN(d_model, dropout, bias, ffn_mult)\n",
    "        \n",
    "        self.adaLN_modulation = nn.Sequential(\n",
    "            nn.SiLU(),\n",
    "            nn.Linear(d_model, 6 * d_model, bias=True)\n",
    "        )\n",
    "        self.adaLN_modulation.apply(init_zeros)\n",
    "        \n",
    "    def forward(self, x, c):\n",
    "        shift_msa, scale_msa, gate_msa, shift_mlp, scale_mlp, gate_mlp = self.adaLN_modulation(c).chunk(6, dim=1)\n",
    "        x_ln = modulate(self.ln_1(x), shift_msa, scale_msa)\n",
    "        x = x + gate_msa[:,None] * self.attn(x_ln, x_ln, x_ln, is_causal=False)\n",
    "        x = x + gate_mlp[:,None] * self.mlp(modulate(self.ln_2(x), shift_mlp, scale_mlp))\n",
    "        return x\n",
    "    \n",
    "    \n",
    "class DiT_Transformer(nn.Module):\n",
    "    def __init__(self, d_model, num_blks, nhead, seq_len,\n",
    "                 dropout = 0.1, bias=False, report_params_count=True,\n",
    "                 ffn_mult=4):\n",
    "        super().__init__()\n",
    "        self.num_hiddens = d_model\n",
    "\n",
    "        self.pos_encoding = nn.Sequential(nn.Linear(seq_len, d_model, bias=False),\n",
    "                                          LayerNormNoBias(d_model)) #Stable Embedding Layer\n",
    "        \n",
    "        self.final_ln = LayerNormNoBias(d_model)\n",
    "        self.start_dropout = nn.Dropout(dropout)\n",
    "        self.seq_len = seq_len\n",
    "\n",
    "        self.blks = nn.Sequential()\n",
    "        for i in range(num_blks):\n",
    "            self.blks.add_module(\"block\"+str(i), DiT_Block(\n",
    "                                d_model, nhead, dropout, bias=False, ffn_mult=ffn_mult))\n",
    "            \n",
    "        \n",
    "        #nn.init.xavier_uniform_(self.pos_encoding[0].weight)\n",
    "        \n",
    "        self.apply(self._init_weights)\n",
    "        # apply special scaled init to the residual projections, per GPT-2 paper\n",
    "        for pn, p in self.named_parameters():\n",
    "            if pn.endswith('proj.weight'):\n",
    "                torch.nn.init.normal_(p, mean=0.0, std=0.02/math.sqrt(2 * num_blks))\n",
    "        \n",
    "        if report_params_count:\n",
    "            params_to_count = [p for p in self.parameters() if p.requires_grad]\n",
    "            print(f'DiT Transformer Parameters: {sum(p.numel() for p in params_to_count)/1e6:.2f}M')\n",
    "        \n",
    "    def _init_weights(self, module):\n",
    "        if isinstance(module, nn.Linear):\n",
    "            torch.nn.init.normal_(module.weight, mean=0.0, std=0.02)\n",
    "            #torch.nn.init.xavier_normal_(module.weight)\n",
    "            if module.bias is not None:\n",
    "                torch.nn.init.zeros_(module.bias)\n",
    "        elif isinstance(module, nn.Embedding):\n",
    "            torch.nn.init.normal_(module.weight, mean=0.0, std=0.02)\n",
    "            #torch.nn.init.xavier_normal_(module.weight)\n",
    "\n",
    "        \n",
    "    def forward(self, X, c):\n",
    "        # Input:\n",
    "        # X e (B, T, D)\n",
    "        # c e (B, D)\n",
    "        \n",
    "        pos = torch.arange(0, self.seq_len, dtype=torch.float32, device='cuda')\n",
    "        pos_emb = self.pos_encoding(pos)\n",
    "        X = self.start_dropout(X+pos_emb)\n",
    "\n",
    "        for i, blk in enumerate(self.blks):\n",
    "            X = blk(X, c)\n",
    "            \n",
    "        return self.final_ln(X)"
   ]
  },
  {
   "cell_type": "code",
   "execution_count": null,
   "id": "86dcafb6-0a86-4b23-a858-ffd84d0d0aeb",
   "metadata": {},
   "outputs": [],
   "source": [
    "model = DiT_Transformer(512, 8, 8, 128).cuda()\n",
    "\n",
    "X = torch.randn(16,128,512).cuda()\n",
    "c = torch.randn(16,512).cuda()\n",
    "\n",
    "model(X,c).shape"
   ]
  },
  {
   "cell_type": "code",
   "execution_count": null,
   "id": "3a6a7bc2-2f1d-4bd2-a116-59fe67d4e0f5",
   "metadata": {},
   "outputs": [],
   "source": []
  },
  {
   "cell_type": "code",
   "execution_count": null,
   "id": "3c34211d-6121-49b9-8e8e-ac989892c917",
   "metadata": {},
   "outputs": [],
   "source": []
  }
 ],
 "metadata": {
  "kernelspec": {
   "display_name": "Python 3 (ipykernel)",
   "language": "python",
   "name": "python3"
  },
  "language_info": {
   "codemirror_mode": {
    "name": "ipython",
    "version": 3
   },
   "file_extension": ".py",
   "mimetype": "text/x-python",
   "name": "python",
   "nbconvert_exporter": "python",
   "pygments_lexer": "ipython3",
   "version": "3.11.5"
  }
 },
 "nbformat": 4,
 "nbformat_minor": 5
}
